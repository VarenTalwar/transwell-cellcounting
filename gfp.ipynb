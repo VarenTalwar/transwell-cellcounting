{
 "cells": [
  {
   "cell_type": "code",
   "execution_count": null,
   "metadata": {},
   "outputs": [],
   "source": [
    "import numpy as np\n",
    "import pandas as pd\n",
    "import tkinter as tk\n",
    "from tkinter import filedialog\n",
    "import os"
   ]
  },
  {
   "cell_type": "code",
   "execution_count": null,
   "metadata": {},
   "outputs": [],
   "source": [
    "root = tk.Tk()\n",
    "root.withdraw()\n",
    "filepath = filedialog.askopenfile()"
   ]
  },
  {
   "cell_type": "code",
   "execution_count": null,
   "metadata": {},
   "outputs": [],
   "source": [
    "res = pd.read_csv(filepath, index_col=0)\n",
    "res"
   ]
  },
  {
   "cell_type": "code",
   "execution_count": null,
   "metadata": {},
   "outputs": [],
   "source": [
    "cellnums = pd.DataFrame(res.\\\n",
    "                        groupby(\"Label\").\\\n",
    "                        agg(\"count\").\\\n",
    "                        iloc[:, 0])\n",
    "\n",
    "cellnums.index = np.array([label[5:] for label in cellnums.index])\n",
    "cellnums.columns = [\"cell_nums\"]\n",
    "cellnums"
   ]
  },
  {
   "cell_type": "code",
   "execution_count": null,
   "metadata": {},
   "outputs": [],
   "source": [
    "bio_groups = np.unique([label[:-10] + \"-GFP\" for label in cellnums.index])\n",
    "bio_groups"
   ]
  },
  {
   "cell_type": "code",
   "execution_count": null,
   "metadata": {},
   "outputs": [],
   "source": [
    "new_df = pd.DataFrame(cellnums[\"cell_nums\"].values.reshape(-1,3), index=bio_groups, columns=[f\"TR{i}\" for i in range(1,4)])\n",
    "new_df"
   ]
  },
  {
   "cell_type": "code",
   "execution_count": null,
   "metadata": {},
   "outputs": [],
   "source": [
    "filepath"
   ]
  },
  {
   "cell_type": "code",
   "execution_count": null,
   "metadata": {},
   "outputs": [],
   "source": [
    "output_path = os.path.join(os.path.dirname(filepath.name), f\"processed_{filepath.name.split(\"/\")[-1][:-4]}.xlsx\")\n",
    "with pd.ExcelWriter(output_path) as f:\n",
    "    cellnums.to_excel(f, sheet_name=\"cell_nums\")\n",
    "    new_df.to_excel(f, sheet_name=\"re-formatted\")"
   ]
  },
  {
   "cell_type": "code",
   "execution_count": null,
   "metadata": {},
   "outputs": [],
   "source": []
  }
 ],
 "metadata": {
  "kernelspec": {
   "display_name": "Python 3",
   "language": "python",
   "name": "python3"
  },
  "language_info": {
   "codemirror_mode": {
    "name": "ipython",
    "version": 3
   },
   "file_extension": ".py",
   "mimetype": "text/x-python",
   "name": "python",
   "nbconvert_exporter": "python",
   "pygments_lexer": "ipython3",
   "version": "3.12.5"
  }
 },
 "nbformat": 4,
 "nbformat_minor": 2
}

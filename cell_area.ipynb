{
 "cells": [
  {
   "cell_type": "code",
   "execution_count": null,
   "metadata": {},
   "outputs": [],
   "source": [
    "import numpy as np\n",
    "import pandas as pd\n",
    "import os\n",
    "import matplotlib.pyplot as plt\n",
    "import glob"
   ]
  },
  {
   "cell_type": "code",
   "execution_count": null,
   "metadata": {},
   "outputs": [],
   "source": [
    "import tkinter as tk\n",
    "from tkinter import filedialog, messagebox"
   ]
  },
  {
   "cell_type": "markdown",
   "metadata": {},
   "source": [
    "## Select folders"
   ]
  },
  {
   "cell_type": "code",
   "execution_count": null,
   "metadata": {},
   "outputs": [],
   "source": [
    "root = tk.Tk()\n",
    "root.withdraw()\n",
    "messagebox.showinfo(\"Folder Selection\", \"Press OK and then select the master folder (raw images)\")\n",
    "\n",
    "photos_dir_master = filedialog.askdirectory(title=\"Select the master folder\")\n",
    "photos_dir_master"
   ]
  },
  {
   "cell_type": "code",
   "execution_count": null,
   "metadata": {},
   "outputs": [],
   "source": [
    "if not photos_dir_master:\n",
    "    raise ValueError(\"No input provided\")"
   ]
  },
  {
   "cell_type": "code",
   "execution_count": null,
   "metadata": {},
   "outputs": [],
   "source": [
    "# folder containing csv files with results from ImageJ\n",
    "messagebox.showinfo(\"Folder Selection\", \"Press OK and then select the results folder (containing all csv files to be analyzed)\")\n",
    "results_dir = filedialog.askdirectory(title=\"Select the folder containing resulting csv files from ImageJ\")\n",
    "results_dir"
   ]
  },
  {
   "cell_type": "code",
   "execution_count": null,
   "metadata": {},
   "outputs": [],
   "source": [
    "if not results_dir:\n",
    "    raise ValueError(\"No input provided\")"
   ]
  },
  {
   "cell_type": "markdown",
   "metadata": {},
   "source": [
    "# Run cells below"
   ]
  },
  {
   "cell_type": "code",
   "execution_count": null,
   "metadata": {},
   "outputs": [],
   "source": [
    "# folder path you want to store processed results in\n",
    "output_dir = os.path.join(os.path.dirname(results_dir), \"Processed Results_cellarea\")\n",
    "os.makedirs(output_dir)"
   ]
  },
  {
   "cell_type": "code",
   "execution_count": null,
   "metadata": {},
   "outputs": [],
   "source": [
    "images_per_figure = []\n",
    "figures = [folder for folder in os.listdir(photos_dir_master) if os.path.isdir(os.path.join(photos_dir_master, folder))]"
   ]
  },
  {
   "cell_type": "code",
   "execution_count": null,
   "metadata": {},
   "outputs": [],
   "source": [
    "results = glob.glob(os.path.join(results_dir, \"*.csv\"))"
   ]
  },
  {
   "cell_type": "code",
   "execution_count": null,
   "metadata": {},
   "outputs": [],
   "source": [
    "cellarea_dct_sq = {}\n",
    "for i in range(len(figures)):\n",
    "    csv_filename = os.path.join(results_dir, figures[i] + \".csv\")\n",
    "    cellnums = pd.read_csv(csv_filename, index_col=0)\n",
    "    image_names_i = glob.glob(os.path.join(photos_dir_master + \"/\" + figures[i], \"**\", \"*.tif\"), recursive=True)\n",
    "    image_names_i = [j.split(\"/\")[-1] for j in image_names_i]\n",
    "    cellarea_dct = {j: sum(cellnums.loc[cellnums[\"Label\"] == f\"outliers_{j}\", \"Area\"]) for j in image_names_i}\n",
    "    cellarea_dct_sq.update({figures[i]: cellarea_dct})"
   ]
  },
  {
   "cell_type": "code",
   "execution_count": null,
   "metadata": {},
   "outputs": [],
   "source": [
    "cellarea_dct_sq"
   ]
  },
  {
   "cell_type": "code",
   "execution_count": null,
   "metadata": {},
   "outputs": [],
   "source": [
    "names = [f\"{i}-{j}\" for i in range(1,4) for j in range(1,4)]\n",
    "names_br = list(range(1,4))\n",
    "#image_size = 4080 * 3072\n",
    "\n",
    "for folder in cellarea_dct_sq.keys():\n",
    "    cellarea_df = pd.DataFrame.from_dict(cellarea_dct_sq[folder], orient=\"index\").reset_index()\n",
    "    cellarea_df.columns = [\"image_name\", \"cell_area\"]\n",
    "    cellarea_df[\"cell_area\"] = cellarea_df[\"cell_area\"] #/ image_size\n",
    "    \n",
    "    \n",
    "    df = cellarea_df.copy()\n",
    "    df.set_index(\"image_name\", inplace=True)\n",
    "    reform_idx = [j.lower() for j in df.index]\n",
    "    df.index = reform_idx\n",
    "    print(df)\n",
    "    bio_groups = np.unique([j[:-7] for j in reform_idx])\n",
    "    new_idx = [f\"{bio_group}{name}.tif\" for bio_group in bio_groups for name in names]\n",
    "    new_dct = {new_id: df.loc[new_id, \"cell_area\"] for new_id in new_idx}\n",
    "    new_vals = np.array(list(new_dct.values())).reshape(-1,3)\n",
    "    new_df = pd.DataFrame(new_vals, columns=[\"TR1\", \"TR2\", \"TR3\"], \n",
    "                          index=[f\"{bio_group}{k}\" for bio_group in bio_groups for k in names_br]).\\\n",
    "                            reset_index()\n",
    "    new_df[\"average\"] = new_df.loc[:, [\"TR1\", \"TR2\", \"TR3\"]].mean(axis=1)\n",
    "\n",
    "    with pd.ExcelWriter(f\"{output_dir}/{folder}_processed.xlsx\") as f:\n",
    "        cellarea_df.to_excel(f, sheet_name=\"cell_area\")\n",
    "        new_df.to_excel(f, sheet_name=\"re-formatted\")\n",
    "\n",
    "        "
   ]
  },
  {
   "cell_type": "code",
   "execution_count": null,
   "metadata": {},
   "outputs": [],
   "source": [
    "new_df"
   ]
  },
  {
   "cell_type": "code",
   "execution_count": null,
   "metadata": {},
   "outputs": [],
   "source": []
  }
 ],
 "metadata": {
  "kernelspec": {
   "display_name": "Python 3",
   "language": "python",
   "name": "python3"
  },
  "language_info": {
   "codemirror_mode": {
    "name": "ipython",
    "version": 3
   },
   "file_extension": ".py",
   "mimetype": "text/x-python",
   "name": "python",
   "nbconvert_exporter": "python",
   "pygments_lexer": "ipython3",
   "version": "3.12.5"
  }
 },
 "nbformat": 4,
 "nbformat_minor": 2
}
